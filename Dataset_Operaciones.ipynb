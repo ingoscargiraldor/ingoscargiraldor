{
  "cells": [
    {
      "cell_type": "markdown",
      "metadata": {
        "id": "view-in-github",
        "colab_type": "text"
      },
      "source": [
        "<a href=\"https://colab.research.google.com/github/ingoscargiraldor/ingoscargiraldor/blob/main/Dataset_Operaciones.ipynb\" target=\"_parent\"><img src=\"https://colab.research.google.com/assets/colab-badge.svg\" alt=\"Open In Colab\"/></a>"
      ]
    },
    {
      "cell_type": "markdown",
      "id": "65642d56-c596-4f2b-9bb1-90e2c403b899",
      "metadata": {
        "id": "65642d56-c596-4f2b-9bb1-90e2c403b899"
      },
      "source": [
        "<a href=\"https://colab.research.google.com/github/datascience-uniandes/data-analysis-tutorial/blob/master/airbnb/eda.ipynb\" target=\"_parent\"><img src=\"https://colab.research.google.com/assets/colab-badge.svg\" alt=\"Open In Colab\"/></a>"
      ]
    },
    {
      "cell_type": "markdown",
      "id": "5ed0788a-edef-4304-a544-c35aed7bb02c",
      "metadata": {
        "id": "5ed0788a-edef-4304-a544-c35aed7bb02c"
      },
      "source": [
        "# Exploratory Data Analysis (EDA)\n",
        "\n",
        "MINE-4101: Applied Data Science  \n",
        "Univerisdad de los Andes  \n",
        "  \n",
        "**Dataset:** AirBnb Listings - Mexico City, Distrito Federal, Mexico [[dataset](http://insideairbnb.com/get-the-data/) | [dictionary](https://docs.google.com/spreadsheets/d/1iWCNJcSutYqpULSQHlNyGInUvHg2BoUGoNRIGa6Szc4/edit?usp=sharing)]. This dataset comprises information about Airbnb property listings in Mexico City. It includes data points like neighborhood, property type, price per night, number of reviews, review scores, availability, amenities, and more.\n",
        "\n",
        "**Business Context:** Property Investment and Vacation Rental Strategy. Imagine you're a consultant for individuals or firms looking to invest in properties for Airbnb rentals. They want to identify the most lucrative neighborhoods, optimal pricing strategies, and understand the factors that contribute to positive reviews and frequent bookings.\n",
        "\n",
        "Last update: August, 2023"
      ]
    },
    {
      "cell_type": "code",
      "execution_count": 1,
      "id": "fa878881-66df-4d8e-b792-1d65470a8dc5",
      "metadata": {
        "id": "fa878881-66df-4d8e-b792-1d65470a8dc5"
      },
      "outputs": [],
      "source": [
        "import pandas as pd\n",
        "\n",
        "import matplotlib.pyplot as plt\n",
        "import seaborn as sns"
      ]
    },
    {
      "cell_type": "code",
      "execution_count": 2,
      "id": "934e72ec-a2c1-45ec-a6fc-a4acb80950d8",
      "metadata": {
        "id": "934e72ec-a2c1-45ec-a6fc-a4acb80950d8"
      },
      "outputs": [],
      "source": [
        "# Pandas configuration for extending the number of columns and rows to show\n",
        "pd.set_option(\"display.max_columns\", None)\n",
        "pd.set_option(\"display.max_rows\", 100)"
      ]
    },
    {
      "cell_type": "markdown",
      "id": "8877beda-27b4-4c17-9d6b-6328db41ac08",
      "metadata": {
        "id": "8877beda-27b4-4c17-9d6b-6328db41ac08"
      },
      "source": [
        "## 1. Loading the data"
      ]
    },
    {
      "cell_type": "code",
      "execution_count": 3,
      "id": "7840e83b-2f32-438f-a8d2-20ef259cf3ac",
      "metadata": {
        "id": "7840e83b-2f32-438f-a8d2-20ef259cf3ac"
      },
      "outputs": [],
      "source": [
        "# Loading the CSV file as dataframe\n",
        "Operación_df = pd.read_csv(\"./data/Dataset_Operacion_Anual.csv\")\n"
      ]
    },
    {
      "cell_type": "code",
      "execution_count": 4,
      "id": "7fdc067c-1aff-4859-b40e-183cc292dfcd",
      "metadata": {
        "colab": {
          "base_uri": "https://localhost:8080/"
        },
        "id": "7fdc067c-1aff-4859-b40e-183cc292dfcd",
        "outputId": "8c000a7a-2314-4cc1-a3a3-4a6e03b043bd"
      },
      "outputs": [
        {
          "output_type": "execute_result",
          "data": {
            "text/plain": [
              "(30100, 5)"
            ]
          },
          "metadata": {},
          "execution_count": 4
        }
      ],
      "source": [
        "# Showing dataframe dimensions\n",
        "Operación_df.shape"
      ]
    },
    {
      "cell_type": "code",
      "execution_count": 5,
      "id": "666da89f-03fa-434d-a366-7fc2e399a731",
      "metadata": {
        "colab": {
          "base_uri": "https://localhost:8080/"
        },
        "id": "666da89f-03fa-434d-a366-7fc2e399a731",
        "outputId": "807b707f-6ac0-46e6-9b25-43d663d135c2"
      },
      "outputs": [
        {
          "output_type": "execute_result",
          "data": {
            "text/plain": [
              "DESCRIPCIÓN DEL ARTICULO     object\n",
              "CANTIDAD                    float64\n",
              "MES                          object\n",
              "TIPO                         object\n",
              "AÑO                         float64\n",
              "dtype: object"
            ]
          },
          "metadata": {},
          "execution_count": 5
        }
      ],
      "source": [
        "# Showing column types\n",
        "Operación_df.dtypes"
      ]
    },
    {
      "cell_type": "code",
      "execution_count": 6,
      "id": "bd41edc2-6d04-4d10-a77d-2ed0f962b657",
      "metadata": {
        "colab": {
          "base_uri": "https://localhost:8080/",
          "height": 363
        },
        "id": "bd41edc2-6d04-4d10-a77d-2ed0f962b657",
        "outputId": "5cccf1bc-5f12-4015-9c15-18ff337d76fe"
      },
      "outputs": [
        {
          "output_type": "execute_result",
          "data": {
            "text/plain": [
              "              DESCRIPCIÓN DEL ARTICULO  CANTIDAD         MES     TIPO     AÑO\n",
              "3107              HIERRO DEXTRAN POLVO       0.0       MARZO  COMPRAS  2023.0\n",
              "25658       FEBANTEL MICRONIZADO x 5KG       0.0       ABRIL  COMPRAS  2020.0\n",
              "3392                      RICOBENDAZOL       0.0       ABRIL  COMPRAS  2023.0\n",
              "8710                     LEVAMISOL HCL      25.0  SEPTIEMBRE   VENTAS  2022.0\n",
              "2624                 CLOTRIMAZOL x 5KG       0.0       ENERO  COMPRAS  2023.0\n",
              "23035            CEFTIOFUR HCL ESTERIL       0.0       ABRIL   VENTAS  2020.0\n",
              "10483  PRAZIQUANTEL MICRONIZADO x 5 KG       0.0        MAYO  COMPRAS  2022.0\n",
              "17156    STREPTOMICINA SULFATO ESTERIL       0.0   DICIEMBRE   VENTAS  2021.0\n",
              "1235   PRAZIQUANTEL MICRONIZADO x 1 KG       0.0       JUNIO   VENTAS  2023.0\n",
              "17049           ERITROMICINA ESTEARATO       0.0   DICIEMBRE   VENTAS  2021.0"
            ],
            "text/html": [
              "\n",
              "  <div id=\"df-ab651101-e33a-4ab4-9dce-ae216ef25c15\" class=\"colab-df-container\">\n",
              "    <div>\n",
              "<style scoped>\n",
              "    .dataframe tbody tr th:only-of-type {\n",
              "        vertical-align: middle;\n",
              "    }\n",
              "\n",
              "    .dataframe tbody tr th {\n",
              "        vertical-align: top;\n",
              "    }\n",
              "\n",
              "    .dataframe thead th {\n",
              "        text-align: right;\n",
              "    }\n",
              "</style>\n",
              "<table border=\"1\" class=\"dataframe\">\n",
              "  <thead>\n",
              "    <tr style=\"text-align: right;\">\n",
              "      <th></th>\n",
              "      <th>DESCRIPCIÓN DEL ARTICULO</th>\n",
              "      <th>CANTIDAD</th>\n",
              "      <th>MES</th>\n",
              "      <th>TIPO</th>\n",
              "      <th>AÑO</th>\n",
              "    </tr>\n",
              "  </thead>\n",
              "  <tbody>\n",
              "    <tr>\n",
              "      <th>3107</th>\n",
              "      <td>HIERRO DEXTRAN POLVO</td>\n",
              "      <td>0.0</td>\n",
              "      <td>MARZO</td>\n",
              "      <td>COMPRAS</td>\n",
              "      <td>2023.0</td>\n",
              "    </tr>\n",
              "    <tr>\n",
              "      <th>25658</th>\n",
              "      <td>FEBANTEL MICRONIZADO x 5KG</td>\n",
              "      <td>0.0</td>\n",
              "      <td>ABRIL</td>\n",
              "      <td>COMPRAS</td>\n",
              "      <td>2020.0</td>\n",
              "    </tr>\n",
              "    <tr>\n",
              "      <th>3392</th>\n",
              "      <td>RICOBENDAZOL</td>\n",
              "      <td>0.0</td>\n",
              "      <td>ABRIL</td>\n",
              "      <td>COMPRAS</td>\n",
              "      <td>2023.0</td>\n",
              "    </tr>\n",
              "    <tr>\n",
              "      <th>8710</th>\n",
              "      <td>LEVAMISOL HCL</td>\n",
              "      <td>25.0</td>\n",
              "      <td>SEPTIEMBRE</td>\n",
              "      <td>VENTAS</td>\n",
              "      <td>2022.0</td>\n",
              "    </tr>\n",
              "    <tr>\n",
              "      <th>2624</th>\n",
              "      <td>CLOTRIMAZOL x 5KG</td>\n",
              "      <td>0.0</td>\n",
              "      <td>ENERO</td>\n",
              "      <td>COMPRAS</td>\n",
              "      <td>2023.0</td>\n",
              "    </tr>\n",
              "    <tr>\n",
              "      <th>23035</th>\n",
              "      <td>CEFTIOFUR HCL ESTERIL</td>\n",
              "      <td>0.0</td>\n",
              "      <td>ABRIL</td>\n",
              "      <td>VENTAS</td>\n",
              "      <td>2020.0</td>\n",
              "    </tr>\n",
              "    <tr>\n",
              "      <th>10483</th>\n",
              "      <td>PRAZIQUANTEL MICRONIZADO x 5 KG</td>\n",
              "      <td>0.0</td>\n",
              "      <td>MAYO</td>\n",
              "      <td>COMPRAS</td>\n",
              "      <td>2022.0</td>\n",
              "    </tr>\n",
              "    <tr>\n",
              "      <th>17156</th>\n",
              "      <td>STREPTOMICINA SULFATO ESTERIL</td>\n",
              "      <td>0.0</td>\n",
              "      <td>DICIEMBRE</td>\n",
              "      <td>VENTAS</td>\n",
              "      <td>2021.0</td>\n",
              "    </tr>\n",
              "    <tr>\n",
              "      <th>1235</th>\n",
              "      <td>PRAZIQUANTEL MICRONIZADO x 1 KG</td>\n",
              "      <td>0.0</td>\n",
              "      <td>JUNIO</td>\n",
              "      <td>VENTAS</td>\n",
              "      <td>2023.0</td>\n",
              "    </tr>\n",
              "    <tr>\n",
              "      <th>17049</th>\n",
              "      <td>ERITROMICINA ESTEARATO</td>\n",
              "      <td>0.0</td>\n",
              "      <td>DICIEMBRE</td>\n",
              "      <td>VENTAS</td>\n",
              "      <td>2021.0</td>\n",
              "    </tr>\n",
              "  </tbody>\n",
              "</table>\n",
              "</div>\n",
              "    <div class=\"colab-df-buttons\">\n",
              "\n",
              "  <div class=\"colab-df-container\">\n",
              "    <button class=\"colab-df-convert\" onclick=\"convertToInteractive('df-ab651101-e33a-4ab4-9dce-ae216ef25c15')\"\n",
              "            title=\"Convert this dataframe to an interactive table.\"\n",
              "            style=\"display:none;\">\n",
              "\n",
              "  <svg xmlns=\"http://www.w3.org/2000/svg\" height=\"24px\" viewBox=\"0 -960 960 960\">\n",
              "    <path d=\"M120-120v-720h720v720H120Zm60-500h600v-160H180v160Zm220 220h160v-160H400v160Zm0 220h160v-160H400v160ZM180-400h160v-160H180v160Zm440 0h160v-160H620v160ZM180-180h160v-160H180v160Zm440 0h160v-160H620v160Z\"/>\n",
              "  </svg>\n",
              "    </button>\n",
              "\n",
              "  <style>\n",
              "    .colab-df-container {\n",
              "      display:flex;\n",
              "      gap: 12px;\n",
              "    }\n",
              "\n",
              "    .colab-df-convert {\n",
              "      background-color: #E8F0FE;\n",
              "      border: none;\n",
              "      border-radius: 50%;\n",
              "      cursor: pointer;\n",
              "      display: none;\n",
              "      fill: #1967D2;\n",
              "      height: 32px;\n",
              "      padding: 0 0 0 0;\n",
              "      width: 32px;\n",
              "    }\n",
              "\n",
              "    .colab-df-convert:hover {\n",
              "      background-color: #E2EBFA;\n",
              "      box-shadow: 0px 1px 2px rgba(60, 64, 67, 0.3), 0px 1px 3px 1px rgba(60, 64, 67, 0.15);\n",
              "      fill: #174EA6;\n",
              "    }\n",
              "\n",
              "    .colab-df-buttons div {\n",
              "      margin-bottom: 4px;\n",
              "    }\n",
              "\n",
              "    [theme=dark] .colab-df-convert {\n",
              "      background-color: #3B4455;\n",
              "      fill: #D2E3FC;\n",
              "    }\n",
              "\n",
              "    [theme=dark] .colab-df-convert:hover {\n",
              "      background-color: #434B5C;\n",
              "      box-shadow: 0px 1px 3px 1px rgba(0, 0, 0, 0.15);\n",
              "      filter: drop-shadow(0px 1px 2px rgba(0, 0, 0, 0.3));\n",
              "      fill: #FFFFFF;\n",
              "    }\n",
              "  </style>\n",
              "\n",
              "    <script>\n",
              "      const buttonEl =\n",
              "        document.querySelector('#df-ab651101-e33a-4ab4-9dce-ae216ef25c15 button.colab-df-convert');\n",
              "      buttonEl.style.display =\n",
              "        google.colab.kernel.accessAllowed ? 'block' : 'none';\n",
              "\n",
              "      async function convertToInteractive(key) {\n",
              "        const element = document.querySelector('#df-ab651101-e33a-4ab4-9dce-ae216ef25c15');\n",
              "        const dataTable =\n",
              "          await google.colab.kernel.invokeFunction('convertToInteractive',\n",
              "                                                    [key], {});\n",
              "        if (!dataTable) return;\n",
              "\n",
              "        const docLinkHtml = 'Like what you see? Visit the ' +\n",
              "          '<a target=\"_blank\" href=https://colab.research.google.com/notebooks/data_table.ipynb>data table notebook</a>'\n",
              "          + ' to learn more about interactive tables.';\n",
              "        element.innerHTML = '';\n",
              "        dataTable['output_type'] = 'display_data';\n",
              "        await google.colab.output.renderOutput(dataTable, element);\n",
              "        const docLink = document.createElement('div');\n",
              "        docLink.innerHTML = docLinkHtml;\n",
              "        element.appendChild(docLink);\n",
              "      }\n",
              "    </script>\n",
              "  </div>\n",
              "\n",
              "\n",
              "<div id=\"df-ab7a36d1-a865-4817-89d1-ea9ebe610833\">\n",
              "  <button class=\"colab-df-quickchart\" onclick=\"quickchart('df-ab7a36d1-a865-4817-89d1-ea9ebe610833')\"\n",
              "            title=\"Suggest charts.\"\n",
              "            style=\"display:none;\">\n",
              "\n",
              "<svg xmlns=\"http://www.w3.org/2000/svg\" height=\"24px\"viewBox=\"0 0 24 24\"\n",
              "     width=\"24px\">\n",
              "    <g>\n",
              "        <path d=\"M19 3H5c-1.1 0-2 .9-2 2v14c0 1.1.9 2 2 2h14c1.1 0 2-.9 2-2V5c0-1.1-.9-2-2-2zM9 17H7v-7h2v7zm4 0h-2V7h2v10zm4 0h-2v-4h2v4z\"/>\n",
              "    </g>\n",
              "</svg>\n",
              "  </button>\n",
              "\n",
              "<style>\n",
              "  .colab-df-quickchart {\n",
              "      --bg-color: #E8F0FE;\n",
              "      --fill-color: #1967D2;\n",
              "      --hover-bg-color: #E2EBFA;\n",
              "      --hover-fill-color: #174EA6;\n",
              "      --disabled-fill-color: #AAA;\n",
              "      --disabled-bg-color: #DDD;\n",
              "  }\n",
              "\n",
              "  [theme=dark] .colab-df-quickchart {\n",
              "      --bg-color: #3B4455;\n",
              "      --fill-color: #D2E3FC;\n",
              "      --hover-bg-color: #434B5C;\n",
              "      --hover-fill-color: #FFFFFF;\n",
              "      --disabled-bg-color: #3B4455;\n",
              "      --disabled-fill-color: #666;\n",
              "  }\n",
              "\n",
              "  .colab-df-quickchart {\n",
              "    background-color: var(--bg-color);\n",
              "    border: none;\n",
              "    border-radius: 50%;\n",
              "    cursor: pointer;\n",
              "    display: none;\n",
              "    fill: var(--fill-color);\n",
              "    height: 32px;\n",
              "    padding: 0;\n",
              "    width: 32px;\n",
              "  }\n",
              "\n",
              "  .colab-df-quickchart:hover {\n",
              "    background-color: var(--hover-bg-color);\n",
              "    box-shadow: 0 1px 2px rgba(60, 64, 67, 0.3), 0 1px 3px 1px rgba(60, 64, 67, 0.15);\n",
              "    fill: var(--button-hover-fill-color);\n",
              "  }\n",
              "\n",
              "  .colab-df-quickchart-complete:disabled,\n",
              "  .colab-df-quickchart-complete:disabled:hover {\n",
              "    background-color: var(--disabled-bg-color);\n",
              "    fill: var(--disabled-fill-color);\n",
              "    box-shadow: none;\n",
              "  }\n",
              "\n",
              "  .colab-df-spinner {\n",
              "    border: 2px solid var(--fill-color);\n",
              "    border-color: transparent;\n",
              "    border-bottom-color: var(--fill-color);\n",
              "    animation:\n",
              "      spin 1s steps(1) infinite;\n",
              "  }\n",
              "\n",
              "  @keyframes spin {\n",
              "    0% {\n",
              "      border-color: transparent;\n",
              "      border-bottom-color: var(--fill-color);\n",
              "      border-left-color: var(--fill-color);\n",
              "    }\n",
              "    20% {\n",
              "      border-color: transparent;\n",
              "      border-left-color: var(--fill-color);\n",
              "      border-top-color: var(--fill-color);\n",
              "    }\n",
              "    30% {\n",
              "      border-color: transparent;\n",
              "      border-left-color: var(--fill-color);\n",
              "      border-top-color: var(--fill-color);\n",
              "      border-right-color: var(--fill-color);\n",
              "    }\n",
              "    40% {\n",
              "      border-color: transparent;\n",
              "      border-right-color: var(--fill-color);\n",
              "      border-top-color: var(--fill-color);\n",
              "    }\n",
              "    60% {\n",
              "      border-color: transparent;\n",
              "      border-right-color: var(--fill-color);\n",
              "    }\n",
              "    80% {\n",
              "      border-color: transparent;\n",
              "      border-right-color: var(--fill-color);\n",
              "      border-bottom-color: var(--fill-color);\n",
              "    }\n",
              "    90% {\n",
              "      border-color: transparent;\n",
              "      border-bottom-color: var(--fill-color);\n",
              "    }\n",
              "  }\n",
              "</style>\n",
              "\n",
              "  <script>\n",
              "    async function quickchart(key) {\n",
              "      const quickchartButtonEl =\n",
              "        document.querySelector('#' + key + ' button');\n",
              "      quickchartButtonEl.disabled = true;  // To prevent multiple clicks.\n",
              "      quickchartButtonEl.classList.add('colab-df-spinner');\n",
              "      try {\n",
              "        const charts = await google.colab.kernel.invokeFunction(\n",
              "            'suggestCharts', [key], {});\n",
              "      } catch (error) {\n",
              "        console.error('Error during call to suggestCharts:', error);\n",
              "      }\n",
              "      quickchartButtonEl.classList.remove('colab-df-spinner');\n",
              "      quickchartButtonEl.classList.add('colab-df-quickchart-complete');\n",
              "    }\n",
              "    (() => {\n",
              "      let quickchartButtonEl =\n",
              "        document.querySelector('#df-ab7a36d1-a865-4817-89d1-ea9ebe610833 button');\n",
              "      quickchartButtonEl.style.display =\n",
              "        google.colab.kernel.accessAllowed ? 'block' : 'none';\n",
              "    })();\n",
              "  </script>\n",
              "</div>\n",
              "    </div>\n",
              "  </div>\n"
            ]
          },
          "metadata": {},
          "execution_count": 6
        }
      ],
      "source": [
        "#fifa_df.head() # Showing the first rows\n",
        "#fifa_df.tail() # Showing last first rows\n",
        "Operación_df.sample(10) # Showing a sample of n rows"
      ]
    },
    {
      "cell_type": "markdown",
      "source": [
        "## 1. Verificar Caliad de los datos"
      ],
      "metadata": {
        "id": "By1uYmIgkowl"
      },
      "id": "By1uYmIgkowl"
    },
    {
      "cell_type": "code",
      "source": [
        "!pip install pylev"
      ],
      "metadata": {
        "colab": {
          "base_uri": "https://localhost:8080/"
        },
        "id": "OL7PN6NBkySl",
        "outputId": "d1f24a50-f71c-47af-bc33-970b53298bfa"
      },
      "id": "OL7PN6NBkySl",
      "execution_count": 7,
      "outputs": [
        {
          "output_type": "stream",
          "name": "stdout",
          "text": [
            "Collecting pylev\n",
            "  Downloading pylev-1.4.0-py2.py3-none-any.whl (6.1 kB)\n",
            "Installing collected packages: pylev\n",
            "Successfully installed pylev-1.4.0\n"
          ]
        }
      ]
    },
    {
      "cell_type": "code",
      "source": [
        "import re\n",
        "from random import randint\n",
        "from datetime import datetime\n",
        "from difflib import SequenceMatcher\n",
        "\n",
        "import numpy as np\n",
        "import pandas as pd\n",
        "\n",
        "import pylev"
      ],
      "metadata": {
        "id": "jHSrLvXTkziz"
      },
      "id": "jHSrLvXTkziz",
      "execution_count": 8,
      "outputs": []
    },
    {
      "cell_type": "code",
      "source": [
        "month_list = ['ENERO', 'FEBRERO', 'MARZO', 'ABRIL', 'MAYO', 'JUNIO', 'JULIO', 'AGOSTO', 'SEPTIEMBRE', 'OCTUBRE', 'NOVIEMBRE', 'DICIEMBRE']"
      ],
      "metadata": {
        "id": "syD18fywk_DZ"
      },
      "id": "syD18fywk_DZ",
      "execution_count": 9,
      "outputs": []
    },
    {
      "cell_type": "code",
      "source": [
        "# Finding values not matching with the dictionary\n",
        "Operación_df.loc[~Operación_df[\"MES\"].isin(month_list), \"MES\"].unique()"
      ],
      "metadata": {
        "colab": {
          "base_uri": "https://localhost:8080/"
        },
        "id": "Fi98oxX2nCkr",
        "outputId": "3ee87648-ad36-49d2-c44e-e05dc3d4cabd"
      },
      "id": "Fi98oxX2nCkr",
      "execution_count": 10,
      "outputs": [
        {
          "output_type": "execute_result",
          "data": {
            "text/plain": [
              "array([nan], dtype=object)"
            ]
          },
          "metadata": {},
          "execution_count": 10
        }
      ]
    },
    {
      "cell_type": "code",
      "source": [
        "Operación_df[\"MES\"].nunique()"
      ],
      "metadata": {
        "colab": {
          "base_uri": "https://localhost:8080/"
        },
        "id": "B2QTKidKnjtu",
        "outputId": "619ffb4c-47b0-4112-80c5-d5fe0de9cacd"
      },
      "id": "B2QTKidKnjtu",
      "execution_count": 11,
      "outputs": [
        {
          "output_type": "execute_result",
          "data": {
            "text/plain": [
              "12"
            ]
          },
          "metadata": {},
          "execution_count": 11
        }
      ]
    },
    {
      "cell_type": "code",
      "source": [
        "Operación_df[\"MES\"].unique()"
      ],
      "metadata": {
        "colab": {
          "base_uri": "https://localhost:8080/"
        },
        "id": "zkdrUP3cnpkf",
        "outputId": "d0b692d2-4c57-4116-b4ce-c884f6d6d22b"
      },
      "id": "zkdrUP3cnpkf",
      "execution_count": 12,
      "outputs": [
        {
          "output_type": "execute_result",
          "data": {
            "text/plain": [
              "array(['ENERO', nan, 'FEBRERO', 'MARZO', 'ABRIL', 'MAYO', 'JUNIO',\n",
              "       'JULIO', 'AGOSTO', 'SEPTIEMBRE', 'OCTUBRE', 'NOVIEMBRE',\n",
              "       'DICIEMBRE'], dtype=object)"
            ]
          },
          "metadata": {},
          "execution_count": 12
        }
      ]
    },
    {
      "cell_type": "code",
      "source": [
        "Operación_df[\"MES\"] = Operación_df[\"MES\"].str.replace(r'^\\s*$', '', regex=True)"
      ],
      "metadata": {
        "id": "XdDHlUyaom6v"
      },
      "id": "XdDHlUyaom6v",
      "execution_count": 15,
      "outputs": []
    },
    {
      "cell_type": "code",
      "source": [
        "Operación_df.loc[~Operación_df[\"MES\"].isin(month_list), \"MES\"].unique()"
      ],
      "metadata": {
        "colab": {
          "base_uri": "https://localhost:8080/"
        },
        "id": "u-701rIcoz9f",
        "outputId": "257ea08e-622e-43f6-e14d-0ea5bdd4e336"
      },
      "id": "u-701rIcoz9f",
      "execution_count": 16,
      "outputs": [
        {
          "output_type": "execute_result",
          "data": {
            "text/plain": [
              "array([nan], dtype=object)"
            ]
          },
          "metadata": {},
          "execution_count": 16
        }
      ]
    },
    {
      "cell_type": "markdown",
      "source": [
        "## Detectando duplicados sobre las columnas"
      ],
      "metadata": {
        "id": "pbIGhG3Syyco"
      },
      "id": "pbIGhG3Syyco"
    },
    {
      "cell_type": "code",
      "source": [
        "# Detecting duplicates by \"CÉDULA\" column\n",
        "duplicates_by_product = Operación_df.loc[Operación_df[\"DESCRIPCIÓN DEL ARTICULO\"].duplicated(keep=False)]"
      ],
      "metadata": {
        "id": "6tSkzuuIyxHd"
      },
      "id": "6tSkzuuIyxHd",
      "execution_count": 46,
      "outputs": []
    },
    {
      "cell_type": "code",
      "source": [
        "duplicates_by_product.shape"
      ],
      "metadata": {
        "id": "z6xBlADszAey",
        "outputId": "0e00f2d5-2a39-4eeb-8b58-b4b6f0e212b6",
        "colab": {
          "base_uri": "https://localhost:8080/"
        }
      },
      "id": "z6xBlADszAey",
      "execution_count": 47,
      "outputs": [
        {
          "output_type": "execute_result",
          "data": {
            "text/plain": [
              "(29958, 5)"
            ]
          },
          "metadata": {},
          "execution_count": 47
        }
      ]
    },
    {
      "cell_type": "code",
      "source": [
        "# Encuentra las filas duplicadas basadas en las columnas especificadas\n",
        "duplicados = Operación_df[Operación_df.duplicated(subset=['TIPO', 'AÑO', 'MES', 'DESCRIPCIÓN DEL ARTICULO', 'CANTIDAD'], keep=False)]\n",
        "\n",
        "duplicados.sort_values(by=['TIPO', 'AÑO', 'MES', 'DESCRIPCIÓN DEL ARTICULO', 'CANTIDAD'], ascending=True).head(10)"
      ],
      "metadata": {
        "id": "EGY9Trmg2Fei",
        "outputId": "08c030a8-765a-4035-e006-57875379c091",
        "colab": {
          "base_uri": "https://localhost:8080/",
          "height": 363
        }
      },
      "id": "EGY9Trmg2Fei",
      "execution_count": 48,
      "outputs": [
        {
          "output_type": "execute_result",
          "data": {
            "text/plain": [
              "                       DESCRIPCIÓN DEL ARTICULO  CANTIDAD     MES     TIPO  \\\n",
              "25794         VITAMINA E ALFA TOCOFEROL ACETATO       0.0   ABRIL  COMPRAS   \n",
              "25797         VITAMINA E ALFA TOCOFEROL ACETATO       0.0   ABRIL  COMPRAS   \n",
              "25795  VITAMINA E ALFA TOCOFEROL ACETATO (BASF)       0.0   ABRIL  COMPRAS   \n",
              "25798  VITAMINA E ALFA TOCOFEROL ACETATO (BASF)       0.0   ABRIL  COMPRAS   \n",
              "25796            YODO METALICO SUBLIMADO PERLAS       0.0   ABRIL  COMPRAS   \n",
              "25799            YODO METALICO SUBLIMADO PERLAS       0.0   ABRIL  COMPRAS   \n",
              "26654         VITAMINA E ALFA TOCOFEROL ACETATO       0.0  AGOSTO  COMPRAS   \n",
              "26657         VITAMINA E ALFA TOCOFEROL ACETATO       0.0  AGOSTO  COMPRAS   \n",
              "26655  VITAMINA E ALFA TOCOFEROL ACETATO (BASF)       0.0  AGOSTO  COMPRAS   \n",
              "26658  VITAMINA E ALFA TOCOFEROL ACETATO (BASF)       0.0  AGOSTO  COMPRAS   \n",
              "\n",
              "          AÑO  \n",
              "25794  2020.0  \n",
              "25797  2020.0  \n",
              "25795  2020.0  \n",
              "25798  2020.0  \n",
              "25796  2020.0  \n",
              "25799  2020.0  \n",
              "26654  2020.0  \n",
              "26657  2020.0  \n",
              "26655  2020.0  \n",
              "26658  2020.0  "
            ],
            "text/html": [
              "\n",
              "  <div id=\"df-36c7a803-9e18-40e8-8239-cf30e181b669\" class=\"colab-df-container\">\n",
              "    <div>\n",
              "<style scoped>\n",
              "    .dataframe tbody tr th:only-of-type {\n",
              "        vertical-align: middle;\n",
              "    }\n",
              "\n",
              "    .dataframe tbody tr th {\n",
              "        vertical-align: top;\n",
              "    }\n",
              "\n",
              "    .dataframe thead th {\n",
              "        text-align: right;\n",
              "    }\n",
              "</style>\n",
              "<table border=\"1\" class=\"dataframe\">\n",
              "  <thead>\n",
              "    <tr style=\"text-align: right;\">\n",
              "      <th></th>\n",
              "      <th>DESCRIPCIÓN DEL ARTICULO</th>\n",
              "      <th>CANTIDAD</th>\n",
              "      <th>MES</th>\n",
              "      <th>TIPO</th>\n",
              "      <th>AÑO</th>\n",
              "    </tr>\n",
              "  </thead>\n",
              "  <tbody>\n",
              "    <tr>\n",
              "      <th>25794</th>\n",
              "      <td>VITAMINA E ALFA TOCOFEROL ACETATO</td>\n",
              "      <td>0.0</td>\n",
              "      <td>ABRIL</td>\n",
              "      <td>COMPRAS</td>\n",
              "      <td>2020.0</td>\n",
              "    </tr>\n",
              "    <tr>\n",
              "      <th>25797</th>\n",
              "      <td>VITAMINA E ALFA TOCOFEROL ACETATO</td>\n",
              "      <td>0.0</td>\n",
              "      <td>ABRIL</td>\n",
              "      <td>COMPRAS</td>\n",
              "      <td>2020.0</td>\n",
              "    </tr>\n",
              "    <tr>\n",
              "      <th>25795</th>\n",
              "      <td>VITAMINA E ALFA TOCOFEROL ACETATO (BASF)</td>\n",
              "      <td>0.0</td>\n",
              "      <td>ABRIL</td>\n",
              "      <td>COMPRAS</td>\n",
              "      <td>2020.0</td>\n",
              "    </tr>\n",
              "    <tr>\n",
              "      <th>25798</th>\n",
              "      <td>VITAMINA E ALFA TOCOFEROL ACETATO (BASF)</td>\n",
              "      <td>0.0</td>\n",
              "      <td>ABRIL</td>\n",
              "      <td>COMPRAS</td>\n",
              "      <td>2020.0</td>\n",
              "    </tr>\n",
              "    <tr>\n",
              "      <th>25796</th>\n",
              "      <td>YODO METALICO SUBLIMADO PERLAS</td>\n",
              "      <td>0.0</td>\n",
              "      <td>ABRIL</td>\n",
              "      <td>COMPRAS</td>\n",
              "      <td>2020.0</td>\n",
              "    </tr>\n",
              "    <tr>\n",
              "      <th>25799</th>\n",
              "      <td>YODO METALICO SUBLIMADO PERLAS</td>\n",
              "      <td>0.0</td>\n",
              "      <td>ABRIL</td>\n",
              "      <td>COMPRAS</td>\n",
              "      <td>2020.0</td>\n",
              "    </tr>\n",
              "    <tr>\n",
              "      <th>26654</th>\n",
              "      <td>VITAMINA E ALFA TOCOFEROL ACETATO</td>\n",
              "      <td>0.0</td>\n",
              "      <td>AGOSTO</td>\n",
              "      <td>COMPRAS</td>\n",
              "      <td>2020.0</td>\n",
              "    </tr>\n",
              "    <tr>\n",
              "      <th>26657</th>\n",
              "      <td>VITAMINA E ALFA TOCOFEROL ACETATO</td>\n",
              "      <td>0.0</td>\n",
              "      <td>AGOSTO</td>\n",
              "      <td>COMPRAS</td>\n",
              "      <td>2020.0</td>\n",
              "    </tr>\n",
              "    <tr>\n",
              "      <th>26655</th>\n",
              "      <td>VITAMINA E ALFA TOCOFEROL ACETATO (BASF)</td>\n",
              "      <td>0.0</td>\n",
              "      <td>AGOSTO</td>\n",
              "      <td>COMPRAS</td>\n",
              "      <td>2020.0</td>\n",
              "    </tr>\n",
              "    <tr>\n",
              "      <th>26658</th>\n",
              "      <td>VITAMINA E ALFA TOCOFEROL ACETATO (BASF)</td>\n",
              "      <td>0.0</td>\n",
              "      <td>AGOSTO</td>\n",
              "      <td>COMPRAS</td>\n",
              "      <td>2020.0</td>\n",
              "    </tr>\n",
              "  </tbody>\n",
              "</table>\n",
              "</div>\n",
              "    <div class=\"colab-df-buttons\">\n",
              "\n",
              "  <div class=\"colab-df-container\">\n",
              "    <button class=\"colab-df-convert\" onclick=\"convertToInteractive('df-36c7a803-9e18-40e8-8239-cf30e181b669')\"\n",
              "            title=\"Convert this dataframe to an interactive table.\"\n",
              "            style=\"display:none;\">\n",
              "\n",
              "  <svg xmlns=\"http://www.w3.org/2000/svg\" height=\"24px\" viewBox=\"0 -960 960 960\">\n",
              "    <path d=\"M120-120v-720h720v720H120Zm60-500h600v-160H180v160Zm220 220h160v-160H400v160Zm0 220h160v-160H400v160ZM180-400h160v-160H180v160Zm440 0h160v-160H620v160ZM180-180h160v-160H180v160Zm440 0h160v-160H620v160Z\"/>\n",
              "  </svg>\n",
              "    </button>\n",
              "\n",
              "  <style>\n",
              "    .colab-df-container {\n",
              "      display:flex;\n",
              "      gap: 12px;\n",
              "    }\n",
              "\n",
              "    .colab-df-convert {\n",
              "      background-color: #E8F0FE;\n",
              "      border: none;\n",
              "      border-radius: 50%;\n",
              "      cursor: pointer;\n",
              "      display: none;\n",
              "      fill: #1967D2;\n",
              "      height: 32px;\n",
              "      padding: 0 0 0 0;\n",
              "      width: 32px;\n",
              "    }\n",
              "\n",
              "    .colab-df-convert:hover {\n",
              "      background-color: #E2EBFA;\n",
              "      box-shadow: 0px 1px 2px rgba(60, 64, 67, 0.3), 0px 1px 3px 1px rgba(60, 64, 67, 0.15);\n",
              "      fill: #174EA6;\n",
              "    }\n",
              "\n",
              "    .colab-df-buttons div {\n",
              "      margin-bottom: 4px;\n",
              "    }\n",
              "\n",
              "    [theme=dark] .colab-df-convert {\n",
              "      background-color: #3B4455;\n",
              "      fill: #D2E3FC;\n",
              "    }\n",
              "\n",
              "    [theme=dark] .colab-df-convert:hover {\n",
              "      background-color: #434B5C;\n",
              "      box-shadow: 0px 1px 3px 1px rgba(0, 0, 0, 0.15);\n",
              "      filter: drop-shadow(0px 1px 2px rgba(0, 0, 0, 0.3));\n",
              "      fill: #FFFFFF;\n",
              "    }\n",
              "  </style>\n",
              "\n",
              "    <script>\n",
              "      const buttonEl =\n",
              "        document.querySelector('#df-36c7a803-9e18-40e8-8239-cf30e181b669 button.colab-df-convert');\n",
              "      buttonEl.style.display =\n",
              "        google.colab.kernel.accessAllowed ? 'block' : 'none';\n",
              "\n",
              "      async function convertToInteractive(key) {\n",
              "        const element = document.querySelector('#df-36c7a803-9e18-40e8-8239-cf30e181b669');\n",
              "        const dataTable =\n",
              "          await google.colab.kernel.invokeFunction('convertToInteractive',\n",
              "                                                    [key], {});\n",
              "        if (!dataTable) return;\n",
              "\n",
              "        const docLinkHtml = 'Like what you see? Visit the ' +\n",
              "          '<a target=\"_blank\" href=https://colab.research.google.com/notebooks/data_table.ipynb>data table notebook</a>'\n",
              "          + ' to learn more about interactive tables.';\n",
              "        element.innerHTML = '';\n",
              "        dataTable['output_type'] = 'display_data';\n",
              "        await google.colab.output.renderOutput(dataTable, element);\n",
              "        const docLink = document.createElement('div');\n",
              "        docLink.innerHTML = docLinkHtml;\n",
              "        element.appendChild(docLink);\n",
              "      }\n",
              "    </script>\n",
              "  </div>\n",
              "\n",
              "\n",
              "<div id=\"df-90d2f926-ac20-4a50-b099-cbf2181750cd\">\n",
              "  <button class=\"colab-df-quickchart\" onclick=\"quickchart('df-90d2f926-ac20-4a50-b099-cbf2181750cd')\"\n",
              "            title=\"Suggest charts.\"\n",
              "            style=\"display:none;\">\n",
              "\n",
              "<svg xmlns=\"http://www.w3.org/2000/svg\" height=\"24px\"viewBox=\"0 0 24 24\"\n",
              "     width=\"24px\">\n",
              "    <g>\n",
              "        <path d=\"M19 3H5c-1.1 0-2 .9-2 2v14c0 1.1.9 2 2 2h14c1.1 0 2-.9 2-2V5c0-1.1-.9-2-2-2zM9 17H7v-7h2v7zm4 0h-2V7h2v10zm4 0h-2v-4h2v4z\"/>\n",
              "    </g>\n",
              "</svg>\n",
              "  </button>\n",
              "\n",
              "<style>\n",
              "  .colab-df-quickchart {\n",
              "      --bg-color: #E8F0FE;\n",
              "      --fill-color: #1967D2;\n",
              "      --hover-bg-color: #E2EBFA;\n",
              "      --hover-fill-color: #174EA6;\n",
              "      --disabled-fill-color: #AAA;\n",
              "      --disabled-bg-color: #DDD;\n",
              "  }\n",
              "\n",
              "  [theme=dark] .colab-df-quickchart {\n",
              "      --bg-color: #3B4455;\n",
              "      --fill-color: #D2E3FC;\n",
              "      --hover-bg-color: #434B5C;\n",
              "      --hover-fill-color: #FFFFFF;\n",
              "      --disabled-bg-color: #3B4455;\n",
              "      --disabled-fill-color: #666;\n",
              "  }\n",
              "\n",
              "  .colab-df-quickchart {\n",
              "    background-color: var(--bg-color);\n",
              "    border: none;\n",
              "    border-radius: 50%;\n",
              "    cursor: pointer;\n",
              "    display: none;\n",
              "    fill: var(--fill-color);\n",
              "    height: 32px;\n",
              "    padding: 0;\n",
              "    width: 32px;\n",
              "  }\n",
              "\n",
              "  .colab-df-quickchart:hover {\n",
              "    background-color: var(--hover-bg-color);\n",
              "    box-shadow: 0 1px 2px rgba(60, 64, 67, 0.3), 0 1px 3px 1px rgba(60, 64, 67, 0.15);\n",
              "    fill: var(--button-hover-fill-color);\n",
              "  }\n",
              "\n",
              "  .colab-df-quickchart-complete:disabled,\n",
              "  .colab-df-quickchart-complete:disabled:hover {\n",
              "    background-color: var(--disabled-bg-color);\n",
              "    fill: var(--disabled-fill-color);\n",
              "    box-shadow: none;\n",
              "  }\n",
              "\n",
              "  .colab-df-spinner {\n",
              "    border: 2px solid var(--fill-color);\n",
              "    border-color: transparent;\n",
              "    border-bottom-color: var(--fill-color);\n",
              "    animation:\n",
              "      spin 1s steps(1) infinite;\n",
              "  }\n",
              "\n",
              "  @keyframes spin {\n",
              "    0% {\n",
              "      border-color: transparent;\n",
              "      border-bottom-color: var(--fill-color);\n",
              "      border-left-color: var(--fill-color);\n",
              "    }\n",
              "    20% {\n",
              "      border-color: transparent;\n",
              "      border-left-color: var(--fill-color);\n",
              "      border-top-color: var(--fill-color);\n",
              "    }\n",
              "    30% {\n",
              "      border-color: transparent;\n",
              "      border-left-color: var(--fill-color);\n",
              "      border-top-color: var(--fill-color);\n",
              "      border-right-color: var(--fill-color);\n",
              "    }\n",
              "    40% {\n",
              "      border-color: transparent;\n",
              "      border-right-color: var(--fill-color);\n",
              "      border-top-color: var(--fill-color);\n",
              "    }\n",
              "    60% {\n",
              "      border-color: transparent;\n",
              "      border-right-color: var(--fill-color);\n",
              "    }\n",
              "    80% {\n",
              "      border-color: transparent;\n",
              "      border-right-color: var(--fill-color);\n",
              "      border-bottom-color: var(--fill-color);\n",
              "    }\n",
              "    90% {\n",
              "      border-color: transparent;\n",
              "      border-bottom-color: var(--fill-color);\n",
              "    }\n",
              "  }\n",
              "</style>\n",
              "\n",
              "  <script>\n",
              "    async function quickchart(key) {\n",
              "      const quickchartButtonEl =\n",
              "        document.querySelector('#' + key + ' button');\n",
              "      quickchartButtonEl.disabled = true;  // To prevent multiple clicks.\n",
              "      quickchartButtonEl.classList.add('colab-df-spinner');\n",
              "      try {\n",
              "        const charts = await google.colab.kernel.invokeFunction(\n",
              "            'suggestCharts', [key], {});\n",
              "      } catch (error) {\n",
              "        console.error('Error during call to suggestCharts:', error);\n",
              "      }\n",
              "      quickchartButtonEl.classList.remove('colab-df-spinner');\n",
              "      quickchartButtonEl.classList.add('colab-df-quickchart-complete');\n",
              "    }\n",
              "    (() => {\n",
              "      let quickchartButtonEl =\n",
              "        document.querySelector('#df-90d2f926-ac20-4a50-b099-cbf2181750cd button');\n",
              "      quickchartButtonEl.style.display =\n",
              "        google.colab.kernel.accessAllowed ? 'block' : 'none';\n",
              "    })();\n",
              "  </script>\n",
              "</div>\n",
              "    </div>\n",
              "  </div>\n"
            ]
          },
          "metadata": {},
          "execution_count": 48
        }
      ]
    },
    {
      "cell_type": "code",
      "source": [
        "Operación_df = Operación_df.drop_duplicates(subset=['TIPO', 'AÑO', 'MES', 'DESCRIPCIÓN DEL ARTICULO', 'CANTIDAD'], keep='first')"
      ],
      "metadata": {
        "id": "8fliQNJIEXKU"
      },
      "id": "8fliQNJIEXKU",
      "execution_count": 50,
      "outputs": []
    },
    {
      "cell_type": "code",
      "source": [
        "# Lista de columnas que quieres considerar para buscar duplicados\n",
        "columnas_a_verificar = ['TIPO', 'AÑO', 'MES', 'DESCRIPCIÓN DEL ARTICULO']\n",
        "\n",
        "# Encuentra las filas duplicadas basadas en las columnas especificadas\n",
        "duplicados = Operación_df[Operación_df.duplicated(subset=['TIPO', 'AÑO', 'MES', 'DESCRIPCIÓN DEL ARTICULO', 'CANTIDAD'], keep=False)]\n",
        "\n",
        "duplicados.sort_values(by=['TIPO', 'AÑO', 'MES', 'DESCRIPCIÓN DEL ARTICULO', 'CANTIDAD'], ascending=True).head(10)"
      ],
      "metadata": {
        "id": "geuId1--EuHK",
        "outputId": "c8995446-7941-4def-c95f-0f3113de3b8d",
        "colab": {
          "base_uri": "https://localhost:8080/",
          "height": 53
        }
      },
      "id": "geuId1--EuHK",
      "execution_count": 51,
      "outputs": [
        {
          "output_type": "execute_result",
          "data": {
            "text/plain": [
              "Empty DataFrame\n",
              "Columns: [DESCRIPCIÓN DEL ARTICULO, CANTIDAD, MES, TIPO, AÑO]\n",
              "Index: []"
            ],
            "text/html": [
              "\n",
              "  <div id=\"df-f2297ec5-6b9e-4838-be1a-0f4d0ec6371d\" class=\"colab-df-container\">\n",
              "    <div>\n",
              "<style scoped>\n",
              "    .dataframe tbody tr th:only-of-type {\n",
              "        vertical-align: middle;\n",
              "    }\n",
              "\n",
              "    .dataframe tbody tr th {\n",
              "        vertical-align: top;\n",
              "    }\n",
              "\n",
              "    .dataframe thead th {\n",
              "        text-align: right;\n",
              "    }\n",
              "</style>\n",
              "<table border=\"1\" class=\"dataframe\">\n",
              "  <thead>\n",
              "    <tr style=\"text-align: right;\">\n",
              "      <th></th>\n",
              "      <th>DESCRIPCIÓN DEL ARTICULO</th>\n",
              "      <th>CANTIDAD</th>\n",
              "      <th>MES</th>\n",
              "      <th>TIPO</th>\n",
              "      <th>AÑO</th>\n",
              "    </tr>\n",
              "  </thead>\n",
              "  <tbody>\n",
              "  </tbody>\n",
              "</table>\n",
              "</div>\n",
              "    <div class=\"colab-df-buttons\">\n",
              "\n",
              "  <div class=\"colab-df-container\">\n",
              "    <button class=\"colab-df-convert\" onclick=\"convertToInteractive('df-f2297ec5-6b9e-4838-be1a-0f4d0ec6371d')\"\n",
              "            title=\"Convert this dataframe to an interactive table.\"\n",
              "            style=\"display:none;\">\n",
              "\n",
              "  <svg xmlns=\"http://www.w3.org/2000/svg\" height=\"24px\" viewBox=\"0 -960 960 960\">\n",
              "    <path d=\"M120-120v-720h720v720H120Zm60-500h600v-160H180v160Zm220 220h160v-160H400v160Zm0 220h160v-160H400v160ZM180-400h160v-160H180v160Zm440 0h160v-160H620v160ZM180-180h160v-160H180v160Zm440 0h160v-160H620v160Z\"/>\n",
              "  </svg>\n",
              "    </button>\n",
              "\n",
              "  <style>\n",
              "    .colab-df-container {\n",
              "      display:flex;\n",
              "      gap: 12px;\n",
              "    }\n",
              "\n",
              "    .colab-df-convert {\n",
              "      background-color: #E8F0FE;\n",
              "      border: none;\n",
              "      border-radius: 50%;\n",
              "      cursor: pointer;\n",
              "      display: none;\n",
              "      fill: #1967D2;\n",
              "      height: 32px;\n",
              "      padding: 0 0 0 0;\n",
              "      width: 32px;\n",
              "    }\n",
              "\n",
              "    .colab-df-convert:hover {\n",
              "      background-color: #E2EBFA;\n",
              "      box-shadow: 0px 1px 2px rgba(60, 64, 67, 0.3), 0px 1px 3px 1px rgba(60, 64, 67, 0.15);\n",
              "      fill: #174EA6;\n",
              "    }\n",
              "\n",
              "    .colab-df-buttons div {\n",
              "      margin-bottom: 4px;\n",
              "    }\n",
              "\n",
              "    [theme=dark] .colab-df-convert {\n",
              "      background-color: #3B4455;\n",
              "      fill: #D2E3FC;\n",
              "    }\n",
              "\n",
              "    [theme=dark] .colab-df-convert:hover {\n",
              "      background-color: #434B5C;\n",
              "      box-shadow: 0px 1px 3px 1px rgba(0, 0, 0, 0.15);\n",
              "      filter: drop-shadow(0px 1px 2px rgba(0, 0, 0, 0.3));\n",
              "      fill: #FFFFFF;\n",
              "    }\n",
              "  </style>\n",
              "\n",
              "    <script>\n",
              "      const buttonEl =\n",
              "        document.querySelector('#df-f2297ec5-6b9e-4838-be1a-0f4d0ec6371d button.colab-df-convert');\n",
              "      buttonEl.style.display =\n",
              "        google.colab.kernel.accessAllowed ? 'block' : 'none';\n",
              "\n",
              "      async function convertToInteractive(key) {\n",
              "        const element = document.querySelector('#df-f2297ec5-6b9e-4838-be1a-0f4d0ec6371d');\n",
              "        const dataTable =\n",
              "          await google.colab.kernel.invokeFunction('convertToInteractive',\n",
              "                                                    [key], {});\n",
              "        if (!dataTable) return;\n",
              "\n",
              "        const docLinkHtml = 'Like what you see? Visit the ' +\n",
              "          '<a target=\"_blank\" href=https://colab.research.google.com/notebooks/data_table.ipynb>data table notebook</a>'\n",
              "          + ' to learn more about interactive tables.';\n",
              "        element.innerHTML = '';\n",
              "        dataTable['output_type'] = 'display_data';\n",
              "        await google.colab.output.renderOutput(dataTable, element);\n",
              "        const docLink = document.createElement('div');\n",
              "        docLink.innerHTML = docLinkHtml;\n",
              "        element.appendChild(docLink);\n",
              "      }\n",
              "    </script>\n",
              "  </div>\n",
              "\n",
              "    </div>\n",
              "  </div>\n"
            ]
          },
          "metadata": {},
          "execution_count": 51
        }
      ]
    },
    {
      "cell_type": "markdown",
      "id": "8a48a9a6-7266-472f-be40-c820e199a029",
      "metadata": {
        "id": "8a48a9a6-7266-472f-be40-c820e199a029"
      },
      "source": [
        "## 2. Univariate analysis"
      ]
    },
    {
      "cell_type": "code",
      "execution_count": 16,
      "id": "15a2aee6-4720-477f-96b5-da43cc930db5",
      "metadata": {
        "colab": {
          "base_uri": "https://localhost:8080/",
          "height": 538
        },
        "id": "15a2aee6-4720-477f-96b5-da43cc930db5",
        "outputId": "4304acc7-f9d6-467f-fa33-21a4c44196f6"
      },
      "outputs": [
        {
          "output_type": "error",
          "ename": "KeyError",
          "evalue": "ignored",
          "traceback": [
            "\u001b[0;31m---------------------------------------------------------------------------\u001b[0m",
            "\u001b[0;31mKeyError\u001b[0m                                  Traceback (most recent call last)",
            "\u001b[0;32m/usr/local/lib/python3.10/dist-packages/pandas/core/indexes/base.py\u001b[0m in \u001b[0;36mget_loc\u001b[0;34m(self, key, method, tolerance)\u001b[0m\n\u001b[1;32m   3801\u001b[0m             \u001b[0;32mtry\u001b[0m\u001b[0;34m:\u001b[0m\u001b[0;34m\u001b[0m\u001b[0;34m\u001b[0m\u001b[0m\n\u001b[0;32m-> 3802\u001b[0;31m                 \u001b[0;32mreturn\u001b[0m \u001b[0mself\u001b[0m\u001b[0;34m.\u001b[0m\u001b[0m_engine\u001b[0m\u001b[0;34m.\u001b[0m\u001b[0mget_loc\u001b[0m\u001b[0;34m(\u001b[0m\u001b[0mcasted_key\u001b[0m\u001b[0;34m)\u001b[0m\u001b[0;34m\u001b[0m\u001b[0;34m\u001b[0m\u001b[0m\n\u001b[0m\u001b[1;32m   3803\u001b[0m             \u001b[0;32mexcept\u001b[0m \u001b[0mKeyError\u001b[0m \u001b[0;32mas\u001b[0m \u001b[0merr\u001b[0m\u001b[0;34m:\u001b[0m\u001b[0;34m\u001b[0m\u001b[0;34m\u001b[0m\u001b[0m\n",
            "\u001b[0;32m/usr/local/lib/python3.10/dist-packages/pandas/_libs/index.pyx\u001b[0m in \u001b[0;36mpandas._libs.index.IndexEngine.get_loc\u001b[0;34m()\u001b[0m\n",
            "\u001b[0;32m/usr/local/lib/python3.10/dist-packages/pandas/_libs/index.pyx\u001b[0m in \u001b[0;36mpandas._libs.index.IndexEngine.get_loc\u001b[0;34m()\u001b[0m\n",
            "\u001b[0;32mpandas/_libs/hashtable_class_helper.pxi\u001b[0m in \u001b[0;36mpandas._libs.hashtable.PyObjectHashTable.get_item\u001b[0;34m()\u001b[0m\n",
            "\u001b[0;32mpandas/_libs/hashtable_class_helper.pxi\u001b[0m in \u001b[0;36mpandas._libs.hashtable.PyObjectHashTable.get_item\u001b[0;34m()\u001b[0m\n",
            "\u001b[0;31mKeyError\u001b[0m: 'id'",
            "\nThe above exception was the direct cause of the following exception:\n",
            "\u001b[0;31mKeyError\u001b[0m                                  Traceback (most recent call last)",
            "\u001b[0;32m<ipython-input-16-f04e95a4aaf2>\u001b[0m in \u001b[0;36m<cell line: 3>\u001b[0;34m()\u001b[0m\n\u001b[1;32m      1\u001b[0m \u001b[0;31m# Showing the number of unique values of listing ids\u001b[0m\u001b[0;34m\u001b[0m\u001b[0;34m\u001b[0m\u001b[0m\n\u001b[1;32m      2\u001b[0m \u001b[0;31m# This can be helpful to diagnose duplicity\u001b[0m\u001b[0;34m\u001b[0m\u001b[0;34m\u001b[0m\u001b[0m\n\u001b[0;32m----> 3\u001b[0;31m \u001b[0mOperación_df\u001b[0m\u001b[0;34m[\u001b[0m\u001b[0;34m\"id\"\u001b[0m\u001b[0;34m]\u001b[0m\u001b[0;34m.\u001b[0m\u001b[0mnunique\u001b[0m\u001b[0;34m(\u001b[0m\u001b[0;34m)\u001b[0m\u001b[0;34m\u001b[0m\u001b[0;34m\u001b[0m\u001b[0m\n\u001b[0m",
            "\u001b[0;32m/usr/local/lib/python3.10/dist-packages/pandas/core/frame.py\u001b[0m in \u001b[0;36m__getitem__\u001b[0;34m(self, key)\u001b[0m\n\u001b[1;32m   3805\u001b[0m             \u001b[0;32mif\u001b[0m \u001b[0mself\u001b[0m\u001b[0;34m.\u001b[0m\u001b[0mcolumns\u001b[0m\u001b[0;34m.\u001b[0m\u001b[0mnlevels\u001b[0m \u001b[0;34m>\u001b[0m \u001b[0;36m1\u001b[0m\u001b[0;34m:\u001b[0m\u001b[0;34m\u001b[0m\u001b[0;34m\u001b[0m\u001b[0m\n\u001b[1;32m   3806\u001b[0m                 \u001b[0;32mreturn\u001b[0m \u001b[0mself\u001b[0m\u001b[0;34m.\u001b[0m\u001b[0m_getitem_multilevel\u001b[0m\u001b[0;34m(\u001b[0m\u001b[0mkey\u001b[0m\u001b[0;34m)\u001b[0m\u001b[0;34m\u001b[0m\u001b[0;34m\u001b[0m\u001b[0m\n\u001b[0;32m-> 3807\u001b[0;31m             \u001b[0mindexer\u001b[0m \u001b[0;34m=\u001b[0m \u001b[0mself\u001b[0m\u001b[0;34m.\u001b[0m\u001b[0mcolumns\u001b[0m\u001b[0;34m.\u001b[0m\u001b[0mget_loc\u001b[0m\u001b[0;34m(\u001b[0m\u001b[0mkey\u001b[0m\u001b[0;34m)\u001b[0m\u001b[0;34m\u001b[0m\u001b[0;34m\u001b[0m\u001b[0m\n\u001b[0m\u001b[1;32m   3808\u001b[0m             \u001b[0;32mif\u001b[0m \u001b[0mis_integer\u001b[0m\u001b[0;34m(\u001b[0m\u001b[0mindexer\u001b[0m\u001b[0;34m)\u001b[0m\u001b[0;34m:\u001b[0m\u001b[0;34m\u001b[0m\u001b[0;34m\u001b[0m\u001b[0m\n\u001b[1;32m   3809\u001b[0m                 \u001b[0mindexer\u001b[0m \u001b[0;34m=\u001b[0m \u001b[0;34m[\u001b[0m\u001b[0mindexer\u001b[0m\u001b[0;34m]\u001b[0m\u001b[0;34m\u001b[0m\u001b[0;34m\u001b[0m\u001b[0m\n",
            "\u001b[0;32m/usr/local/lib/python3.10/dist-packages/pandas/core/indexes/base.py\u001b[0m in \u001b[0;36mget_loc\u001b[0;34m(self, key, method, tolerance)\u001b[0m\n\u001b[1;32m   3802\u001b[0m                 \u001b[0;32mreturn\u001b[0m \u001b[0mself\u001b[0m\u001b[0;34m.\u001b[0m\u001b[0m_engine\u001b[0m\u001b[0;34m.\u001b[0m\u001b[0mget_loc\u001b[0m\u001b[0;34m(\u001b[0m\u001b[0mcasted_key\u001b[0m\u001b[0;34m)\u001b[0m\u001b[0;34m\u001b[0m\u001b[0;34m\u001b[0m\u001b[0m\n\u001b[1;32m   3803\u001b[0m             \u001b[0;32mexcept\u001b[0m \u001b[0mKeyError\u001b[0m \u001b[0;32mas\u001b[0m \u001b[0merr\u001b[0m\u001b[0;34m:\u001b[0m\u001b[0;34m\u001b[0m\u001b[0;34m\u001b[0m\u001b[0m\n\u001b[0;32m-> 3804\u001b[0;31m                 \u001b[0;32mraise\u001b[0m \u001b[0mKeyError\u001b[0m\u001b[0;34m(\u001b[0m\u001b[0mkey\u001b[0m\u001b[0;34m)\u001b[0m \u001b[0;32mfrom\u001b[0m \u001b[0merr\u001b[0m\u001b[0;34m\u001b[0m\u001b[0;34m\u001b[0m\u001b[0m\n\u001b[0m\u001b[1;32m   3805\u001b[0m             \u001b[0;32mexcept\u001b[0m \u001b[0mTypeError\u001b[0m\u001b[0;34m:\u001b[0m\u001b[0;34m\u001b[0m\u001b[0;34m\u001b[0m\u001b[0m\n\u001b[1;32m   3806\u001b[0m                 \u001b[0;31m# If we have a listlike key, _check_indexing_error will raise\u001b[0m\u001b[0;34m\u001b[0m\u001b[0;34m\u001b[0m\u001b[0m\n",
            "\u001b[0;31mKeyError\u001b[0m: 'id'"
          ]
        }
      ],
      "source": [
        "# Showing the number of unique values of listing ids\n",
        "# This can be helpful to diagnose duplicity\n",
        "Operación_df[\"id\"].nunique()"
      ]
    },
    {
      "cell_type": "code",
      "execution_count": null,
      "id": "bc04351d-8e46-49ee-9c41-3682e24bd494",
      "metadata": {
        "id": "bc04351d-8e46-49ee-9c41-3682e24bd494"
      },
      "outputs": [],
      "source": [
        "# Showing unique values of neighbourhoods\n",
        "Operación_df[\"neighbourhood_cleansed\"].unique()"
      ]
    },
    {
      "cell_type": "code",
      "execution_count": null,
      "id": "31768fab-c8d6-46e1-bca2-58b43d2f7a8f",
      "metadata": {
        "id": "31768fab-c8d6-46e1-bca2-58b43d2f7a8f"
      },
      "outputs": [],
      "source": [
        "# Calculating the relative frecuency of room types\n",
        "listings_df[\"room_type\"].value_counts(dropna=False, normalize=True) # You can set normalize to False for calculating the absolute frecuency"
      ]
    },
    {
      "cell_type": "code",
      "execution_count": null,
      "id": "35a2314f-25d7-4cf8-bc4f-48da44610479",
      "metadata": {
        "id": "35a2314f-25d7-4cf8-bc4f-48da44610479"
      },
      "outputs": [],
      "source": [
        "# Calculating basic statistics of accommodates\n",
        "listings_df[\"accommodates\"].describe(percentiles=[0.05, 0.25, 0.5, 0.75, 0.95])"
      ]
    },
    {
      "cell_type": "markdown",
      "id": "2c587eb0-50fd-4c28-8f78-404b30cdcf08",
      "metadata": {
        "id": "2c587eb0-50fd-4c28-8f78-404b30cdcf08"
      },
      "source": [
        "<span style=\"color: red;\">What does it means the value of 0 for this attribute?</span>"
      ]
    },
    {
      "cell_type": "code",
      "execution_count": null,
      "id": "a7ce14e6-d333-4740-9fb0-ffdff904c06c",
      "metadata": {
        "id": "a7ce14e6-d333-4740-9fb0-ffdff904c06c"
      },
      "outputs": [],
      "source": [
        "# We need to transform the price attribute from object to float\n",
        "listings_df[\"price_float\"] = listings_df[\"price\"].str.replace(\"[$,]\", \"\", regex=True).astype(float)"
      ]
    },
    {
      "cell_type": "code",
      "execution_count": null,
      "id": "e9d82956-e456-41b6-8c00-61176622ec39",
      "metadata": {
        "id": "e9d82956-e456-41b6-8c00-61176622ec39"
      },
      "outputs": [],
      "source": [
        "# Plotting a histogram for price\n",
        "plt.figure(figsize=(20, 5))\n",
        "plt.hist(listings_df[\"price_float\"], bins=50)\n",
        "plt.title(\"Price distribution\")\n",
        "plt.plot()"
      ]
    },
    {
      "cell_type": "markdown",
      "id": "475ab96f-e169-4998-ae2d-563123991e30",
      "metadata": {
        "id": "475ab96f-e169-4998-ae2d-563123991e30"
      },
      "source": [
        "<span style=\"color: red;\">This attribute has a extreme outlier making difficult a proper visualization?</span>"
      ]
    },
    {
      "cell_type": "code",
      "execution_count": null,
      "id": "c0cd6073-7c39-4216-a807-e905a2bc7a88",
      "metadata": {
        "id": "c0cd6073-7c39-4216-a807-e905a2bc7a88"
      },
      "outputs": [],
      "source": [
        "# Let's make some calculations for determining an outlier threshold\n",
        "q1 = listings_df[\"price_float\"].quantile(0.25)\n",
        "q3 = listings_df[\"price_float\"].quantile(0.75)\n",
        "iqr = q3 - q1"
      ]
    },
    {
      "cell_type": "code",
      "execution_count": null,
      "id": "687f2fcc-a10e-4324-b016-bba3ed48c4fb",
      "metadata": {
        "id": "687f2fcc-a10e-4324-b016-bba3ed48c4fb"
      },
      "outputs": [],
      "source": [
        "plt.figure(figsize=(20, 5))\n",
        "plt.hist(listings_df.loc[listings_df[\"price_float\"] <= (q3 + 1.5 * iqr)][\"price_float\"], bins=50)\n",
        "plt.title(\"Price distribution\")\n",
        "plt.plot()"
      ]
    },
    {
      "cell_type": "code",
      "execution_count": null,
      "id": "00907541-9b1c-4830-a5a1-af76efee77a5",
      "metadata": {
        "id": "00907541-9b1c-4830-a5a1-af76efee77a5"
      },
      "outputs": [],
      "source": [
        "# Plotting bar charts for has availability and instant bookable\n",
        "fig, (ax1, ax2) = plt.subplots(1, 2, sharey=True, figsize=(20, 5))\n",
        "listings_df[\"has_availability\"].value_counts().plot(kind=\"bar\", ax=ax1, color=\"orange\")\n",
        "listings_df[\"instant_bookable\"].value_counts().sort_index(ascending=False).plot(kind=\"bar\", ax=ax2, color=\"green\")\n",
        "ax1.set_title(\"Has availability frecuency\")\n",
        "ax2.set_title(\"Instant bookable frecuency\")\n",
        "plt.show()"
      ]
    },
    {
      "cell_type": "code",
      "execution_count": null,
      "id": "ce4dd2d6-eda2-4c26-89d2-bba762a5c7be",
      "metadata": {
        "id": "ce4dd2d6-eda2-4c26-89d2-bba762a5c7be"
      },
      "outputs": [],
      "source": [
        "# Plotting a boxplot for number of reviews\n",
        "plt.figure(figsize=(20, 5))\n",
        "plt.boxplot(listings_df[\"number_of_reviews\"], showmeans=True, vert=False)\n",
        "plt.title(\"Number of reviews distribution\")\n",
        "plt.show()"
      ]
    },
    {
      "cell_type": "markdown",
      "id": "0fd7cbf9-44ba-49e6-9166-9de23e45ec2a",
      "metadata": {
        "id": "0fd7cbf9-44ba-49e6-9166-9de23e45ec2a"
      },
      "source": [
        "## 2. Bivariate analysis"
      ]
    },
    {
      "cell_type": "code",
      "execution_count": null,
      "id": "012035ff-0256-4309-a356-0b30f48a3f83",
      "metadata": {
        "id": "012035ff-0256-4309-a356-0b30f48a3f83"
      },
      "outputs": [],
      "source": [
        "# Plotting correlation heatmap among review scores\n",
        "plt.figure(figsize=(10, 8))\n",
        "sns.heatmap(\n",
        "    listings_df[[\"review_scores_rating\", \"review_scores_accuracy\", \"review_scores_cleanliness\", \"review_scores_checkin\", \"review_scores_communication\", \"review_scores_location\", \"review_scores_value\"]].corr(),\n",
        "    vmin=0.5, vmax=1,\n",
        "    cmap=\"Blues\"\n",
        ")\n",
        "plt.title(\"Correlation among review scores\")\n",
        "plt.show()"
      ]
    },
    {
      "cell_type": "code",
      "execution_count": null,
      "id": "6c18b3ff-477e-4377-84d5-bf24561bf5b0",
      "metadata": {
        "id": "6c18b3ff-477e-4377-84d5-bf24561bf5b0"
      },
      "outputs": [],
      "source": [
        "# For large datasets, some visualizations are innefective when trying to represent individual instances\n",
        "# A naive strategy is to use only a random sample to visualize\n",
        "listings_sample_df =  listings_df.loc[listings_df[\"price_float\"] <= (q3 + 1.5 * iqr)].sample(frac=0.1)\n",
        "listings_sample_df.shape"
      ]
    },
    {
      "cell_type": "code",
      "execution_count": null,
      "id": "8a0aa277-64e2-4514-a790-5ef33b08c60c",
      "metadata": {
        "id": "8a0aa277-64e2-4514-a790-5ef33b08c60c"
      },
      "outputs": [],
      "source": [
        "# Plotting the relationship between price and review score value\n",
        "plt.figure(figsize=(10, 8))\n",
        "sns.scatterplot(\n",
        "    x=listings_sample_df[\"price_float\"],\n",
        "    y=listings_sample_df[\"review_scores_value\"]\n",
        ")\n",
        "plt.title(\"Relationship between price and review score value\")\n",
        "plt.grid()\n",
        "plt.show()"
      ]
    },
    {
      "cell_type": "code",
      "execution_count": null,
      "id": "61cc79c7-320d-4440-8037-41e9199d63e1",
      "metadata": {
        "id": "61cc79c7-320d-4440-8037-41e9199d63e1"
      },
      "outputs": [],
      "source": [
        "# Anothe common strategy for working with datasets with high variability is filter the dataset by representative groups according to the context\n",
        "# In this sense, let's work only with the neighbourhoods with more listings (pareto analysis)\n",
        "neighbourhood_frec_cumsum = listings_df[\"neighbourhood_cleansed\"].value_counts(normalize=True).cumsum()"
      ]
    },
    {
      "cell_type": "code",
      "execution_count": null,
      "id": "378c7a38-340b-4d27-93dc-3543e968a3bf",
      "metadata": {
        "id": "378c7a38-340b-4d27-93dc-3543e968a3bf"
      },
      "outputs": [],
      "source": [
        "# Plotting pareto analysis for neighbourhood frecuency\n",
        "plt.figure(figsize=(20, 8))\n",
        "neighbourhood_frec_cumsum.plot(kind=\"bar\", color=\"steelblue\")\n",
        "plt.title(\"Pareto analysis for neighbourhood frecuency\")\n",
        "plt.grid(axis=\"y\")\n",
        "plt.show()"
      ]
    },
    {
      "cell_type": "code",
      "execution_count": null,
      "id": "33438d16-edd6-409e-b826-03f0fae9a365",
      "metadata": {
        "id": "33438d16-edd6-409e-b826-03f0fae9a365"
      },
      "outputs": [],
      "source": [
        "most_representative_neighbourhoods = neighbourhood_frec_cumsum.loc[neighbourhood_frec_cumsum < 0.8].index.tolist()\n",
        "most_representative_neighbourhoods"
      ]
    },
    {
      "cell_type": "code",
      "execution_count": null,
      "id": "b5a80f27-e24c-44f6-ab63-60d26a3e6f2e",
      "metadata": {
        "id": "b5a80f27-e24c-44f6-ab63-60d26a3e6f2e"
      },
      "outputs": [],
      "source": [
        "# Plotting price distribution by neighbourhood\n",
        "fig, ax = plt.subplots(1, 1, figsize=(20, 8))\n",
        "sns.kdeplot(\n",
        "    data=listings_df.loc[listings_df[\"price_float\"] <= (q3 + 1.5 * iqr)].loc[listings_df[\"neighbourhood_cleansed\"].isin(most_representative_neighbourhoods)],\n",
        "    x=\"price_float\",\n",
        "    hue=\"neighbourhood_cleansed\",\n",
        "    bw_adjust=.3,\n",
        "    ax=ax\n",
        ")\n",
        "for (neighbourhood, color) in zip(most_representative_neighbourhoods, [\"steelblue\", \"orange\", \"green\"]):\n",
        "    ax.axvline(listings_df.loc[listings_df[\"price_float\"] <= (q3 + 1.5 * iqr)].loc[listings_df[\"neighbourhood_cleansed\"] == neighbourhood, \"price_float\"].mean(), color=color, linestyle=\"dashed\", linewidth=2, ymax=0.2)\n",
        "plt.title(\"Price distribution by neighbourhood (with means)\")\n",
        "plt.show()"
      ]
    },
    {
      "cell_type": "code",
      "execution_count": null,
      "id": "9ce88223-27ef-4d3d-bd02-2402156c1eb6",
      "metadata": {
        "id": "9ce88223-27ef-4d3d-bd02-2402156c1eb6"
      },
      "outputs": [],
      "source": [
        "# Plotting number of reviews distribution by neighbourhood\n",
        "fig, ax = plt.subplots(1, 1, figsize=(20, 8))\n",
        "sns.kdeplot(\n",
        "    data=listings_df.loc[listings_df[\"price_float\"] <= (q3 + 1.5 * iqr)].loc[listings_df[\"neighbourhood_cleansed\"].isin(most_representative_neighbourhoods)],\n",
        "    x=\"number_of_reviews\",\n",
        "    hue=\"neighbourhood_cleansed\",\n",
        "    bw_adjust=.3,\n",
        "    ax=ax\n",
        ")\n",
        "for (neighbourhood, color) in zip(most_representative_neighbourhoods, [\"steelblue\", \"orange\", \"green\"]):\n",
        "    ax.axvline(listings_df.loc[listings_df[\"price_float\"] <= (q3 + 1.5 * iqr)].loc[listings_df[\"neighbourhood_cleansed\"] == neighbourhood, \"number_of_reviews\"].mean(), color=color, linestyle=\"dashed\", linewidth=2, ymax=0.2)\n",
        "plt.title(\"Price distribution by neighbourhood (with means)\")\n",
        "plt.xlim([0, 200])\n",
        "plt.show()"
      ]
    },
    {
      "cell_type": "code",
      "execution_count": null,
      "id": "450329bb-2b75-4f34-b704-637a632fba27",
      "metadata": {
        "id": "450329bb-2b75-4f34-b704-637a632fba27"
      },
      "outputs": [],
      "source": []
    }
  ],
  "metadata": {
    "kernelspec": {
      "display_name": "Python 3 (ipykernel)",
      "language": "python",
      "name": "python3"
    },
    "language_info": {
      "codemirror_mode": {
        "name": "ipython",
        "version": 3
      },
      "file_extension": ".py",
      "mimetype": "text/x-python",
      "name": "python",
      "nbconvert_exporter": "python",
      "pygments_lexer": "ipython3",
      "version": "3.9.12"
    },
    "colab": {
      "provenance": [],
      "include_colab_link": true
    }
  },
  "nbformat": 4,
  "nbformat_minor": 5
}